{
  "nbformat": 4,
  "nbformat_minor": 0,
  "metadata": {
    "colab": {
      "provenance": []
    },
    "kernelspec": {
      "name": "python3",
      "display_name": "Python 3"
    },
    "language_info": {
      "name": "python"
    }
  },
  "cells": [
    {
      "cell_type": "markdown",
      "source": [
        "# **Social Media Post Analysis Project**"
      ],
      "metadata": {
        "id": "uy0V_QshVNat"
      }
    },
    {
      "cell_type": "markdown",
      "source": [
        "## **Task 1 - Import required libraries**\n",
        " This is usually done at the top of the program.\n",
        " Here, you are importing the following required libraries:\n",
        " * pandas for creating the dataframe\n",
        " * numpy for forming a random number from a range\n",
        " * Matplotlib.pyplot for displaying graphs\n",
        " * seaborn for plotting the data\n",
        "\n"
      ],
      "metadata": {
        "id": "y7--hEHKSOW6"
      }
    },
    {
      "cell_type": "code",
      "execution_count": 1,
      "metadata": {
        "id": "CaiVqwdISF1q"
      },
      "outputs": [],
      "source": [
        "import pandas as pd\n",
        "import numpy as np\n",
        "import matplotlib.pyplot as plt\n",
        "import seaborn as sns\n",
        "import random"
      ]
    },
    {
      "cell_type": "markdown",
      "source": [
        "##**Task 2 - Generate random data for the social media data**\n",
        "Now that you have the required imports, you need to generate some random tweet data to analyze.\n",
        " There are many ways to generate random data in Python, but some are more convenient than others.\n",
        " In this case, you may use pandas date range to choose a pseudo-random date within a range,\n",
        " the random module's choice to create a choice from a list, and numpy's random to create a random integer.\n",
        " First of all you need to define a list of categories for the social media experiment.\n",
        " The list may include the following, for example: Food, Travel, Fashion, Fitness, Music, Culture, Family, and Health.\n"
      ],
      "metadata": {
        "id": "XLKf4GjnSfMD"
      }
    },
    {
      "cell_type": "code",
      "source": [
        "categories = ['Food', 'Travel', 'Fashion', 'Fitness', 'Music', 'Culture', 'Family', 'Health']"
      ],
      "metadata": {
        "id": "-q3Moy7jSbn_"
      },
      "execution_count": 2,
      "outputs": []
    },
    {
      "cell_type": "markdown",
      "source": [
        " Next, generate a Python data dictionary with fields Date, Category, and number of likes, all with random data.\n",
        " You will need the data to align, so the 'Date' dictionary entry should be n periods long.\n",
        " The 'Category' should be a list of random choices n entries long\n",
        " and the 'Likes' category should be random integers in the range 0 to lets say 10000 also with size equal to n.\n",
        " For example, if n is equal to 500:"
      ],
      "metadata": {
        "id": "RE4SbKcuSwhS"
      }
    },
    {
      "cell_type": "code",
      "source": [
        "n = 500 # We will use n = 500 as an example\n",
        "\n",
        "data = {\n",
        "    'Date': pd.date_range('2021-01-01', periods=n),\n",
        "    # Now Use the random method called choice to gather a random category.\n",
        "    'Category': [random.choice(categories) for _ in range(n)],\n",
        "    # Then Use numpy's random randint() to form a random integer for the number of likes.\n",
        "    'Likes': np.random.randint(0, 10000, size=n)\n",
        "}\n",
        "print(\"Sample of generated data:\")"
      ],
      "metadata": {
        "colab": {
          "base_uri": "https://localhost:8080/"
        },
        "id": "QlSDofPPSvxO",
        "outputId": "31ce7a76-5f10-4186-990b-6318b3c2ce60"
      },
      "execution_count": 4,
      "outputs": [
        {
          "output_type": "stream",
          "name": "stdout",
          "text": [
            "Sample of generated data:\n"
          ]
        }
      ]
    },
    {
      "cell_type": "code",
      "source": [
        "# Convert data dictionary to a small DataFrame for display to show what was generated\n",
        "temp_df = pd.DataFrame(data)\n",
        "print(temp_df.head())\n",
        "print(\"\\n\")"
      ],
      "metadata": {
        "colab": {
          "base_uri": "https://localhost:8080/"
        },
        "id": "oxGi4c-0S3AA",
        "outputId": "277e69bd-2337-4d6e-9860-121786853240"
      },
      "execution_count": 5,
      "outputs": [
        {
          "output_type": "stream",
          "name": "stdout",
          "text": [
            "        Date Category  Likes\n",
            "0 2021-01-01   Travel   4424\n",
            "1 2021-01-02  Culture   4465\n",
            "2 2021-01-03  Fashion   5829\n",
            "3 2021-01-04     Food   1305\n",
            "4 2021-01-05    Music   4930\n",
            "\n",
            "\n"
          ]
        }
      ]
    },
    {
      "cell_type": "markdown",
      "source": [
        "##**Task 3 - Load the data into a Pandas DataFrame and Explore the data**\n",
        " The next step is to load the randomly generated data into the pandas dataframe and print the data.\n",
        " To do so, we need to use the DataFrame method of the pandas object and pass the data to it.\n"
      ],
      "metadata": {
        "id": "GJYjWBYWTHW4"
      }
    },
    {
      "cell_type": "code",
      "source": [
        "df = pd.DataFrame(data)\n",
        "# Then, print the dataframe head, the dataframe information, and the dataframe description.\n",
        "print(\"Task 3: Exploring the DataFrame.\")"
      ],
      "metadata": {
        "colab": {
          "base_uri": "https://localhost:8080/"
        },
        "id": "CeJp_QwYS_Wx",
        "outputId": "1b8178cf-3276-48e6-800a-b6854a3e0569"
      },
      "execution_count": 6,
      "outputs": [
        {
          "output_type": "stream",
          "name": "stdout",
          "text": [
            "Task 3: Exploring the DataFrame.\n"
          ]
        }
      ]
    },
    {
      "cell_type": "code",
      "source": [
        "print(\"\\nDataFrame Head:\")\n",
        "print(df.head())"
      ],
      "metadata": {
        "colab": {
          "base_uri": "https://localhost:8080/"
        },
        "id": "8E7rcfg3TY4o",
        "outputId": "d547e6d3-a259-4fba-b6ce-eccb2b129d43"
      },
      "execution_count": 7,
      "outputs": [
        {
          "output_type": "stream",
          "name": "stdout",
          "text": [
            "\n",
            "DataFrame Head:\n",
            "        Date Category  Likes\n",
            "0 2021-01-01   Travel   4424\n",
            "1 2021-01-02  Culture   4465\n",
            "2 2021-01-03  Fashion   5829\n",
            "3 2021-01-04     Food   1305\n",
            "4 2021-01-05    Music   4930\n"
          ]
        }
      ]
    },
    {
      "cell_type": "code",
      "source": [
        "print(\"\\nDataFrame Information:\")\n",
        "df.info()"
      ],
      "metadata": {
        "colab": {
          "base_uri": "https://localhost:8080/"
        },
        "id": "PhuvZSfQTatp",
        "outputId": "76977a97-dfdd-4e71-ffa0-4b5bdc2a8dba"
      },
      "execution_count": 8,
      "outputs": [
        {
          "output_type": "stream",
          "name": "stdout",
          "text": [
            "\n",
            "DataFrame Information:\n",
            "<class 'pandas.core.frame.DataFrame'>\n",
            "RangeIndex: 500 entries, 0 to 499\n",
            "Data columns (total 3 columns):\n",
            " #   Column    Non-Null Count  Dtype         \n",
            "---  ------    --------------  -----         \n",
            " 0   Date      500 non-null    datetime64[ns]\n",
            " 1   Category  500 non-null    object        \n",
            " 2   Likes     500 non-null    int64         \n",
            "dtypes: datetime64[ns](1), int64(1), object(1)\n",
            "memory usage: 11.8+ KB\n"
          ]
        }
      ]
    },
    {
      "cell_type": "code",
      "source": [
        "print(\"\\nDataFrame Description:\")\n",
        "print(df.describe())"
      ],
      "metadata": {
        "colab": {
          "base_uri": "https://localhost:8080/"
        },
        "id": "rzBy_Y0FTcH3",
        "outputId": "c17aac6b-3232-4bf2-b281-4f1868e0da77"
      },
      "execution_count": 9,
      "outputs": [
        {
          "output_type": "stream",
          "name": "stdout",
          "text": [
            "\n",
            "DataFrame Description:\n",
            "                      Date       Likes\n",
            "count                  500   500.00000\n",
            "mean   2021-09-07 12:00:00  4973.80600\n",
            "min    2021-01-01 00:00:00    52.00000\n",
            "25%    2021-05-05 18:00:00  2583.50000\n",
            "50%    2021-09-07 12:00:00  4716.00000\n",
            "75%    2022-01-10 06:00:00  7291.25000\n",
            "max    2022-05-15 00:00:00  9992.00000\n",
            "std                    NaN  2850.67982\n"
          ]
        }
      ]
    },
    {
      "cell_type": "code",
      "source": [
        "# Finally, print the count of each 'Category'element.\n",
        "print(\"\\nCount of each 'Category' element:\")\n",
        "print(df['Category'].value_counts())\n",
        "print(\"\\n\")"
      ],
      "metadata": {
        "colab": {
          "base_uri": "https://localhost:8080/"
        },
        "id": "B1RxgLs1TdVo",
        "outputId": "94ed4efa-3b11-4bb2-c63c-d5e046005921"
      },
      "execution_count": 10,
      "outputs": [
        {
          "output_type": "stream",
          "name": "stdout",
          "text": [
            "\n",
            "Count of each 'Category' element:\n",
            "Category\n",
            "Food       70\n",
            "Fitness    66\n",
            "Music      65\n",
            "Health     65\n",
            "Fashion    64\n",
            "Culture    59\n",
            "Family     56\n",
            "Travel     55\n",
            "Name: count, dtype: int64\n",
            "\n",
            "\n"
          ]
        }
      ]
    },
    {
      "cell_type": "markdown",
      "source": [
        "##**Task 4 - Clean the data**\n",
        " An important aspect of processing data is to move invalid data points so you can effectively perform statistics and visualize valid data. The pandas dataframe has built-in functionality to clean the data.\n",
        "First, remove all the null data using the appropriate dataframe drop method."
      ],
      "metadata": {
        "id": "G26a9h2VTnuH"
      }
    },
    {
      "cell_type": "code",
      "source": [
        "\n",
        "df.dropna(inplace=True)\n",
        "print(\"Task 4: Data Cleaning.\")\n",
        "print(\"Null values removed.\")"
      ],
      "metadata": {
        "colab": {
          "base_uri": "https://localhost:8080/"
        },
        "id": "zlAcVbqeTitL",
        "outputId": "f996e96c-c916-4d64-f1a5-80a4d8aed055"
      },
      "execution_count": 11,
      "outputs": [
        {
          "output_type": "stream",
          "name": "stdout",
          "text": [
            "Task 4: Data Cleaning.\n",
            "Null values removed.\n"
          ]
        }
      ]
    },
    {
      "cell_type": "code",
      "source": [
        "# Next, we want to also remove duplicate data from the dataframe.\n",
        "# Use a dataframe method to do so.\n",
        "df.drop_duplicates(inplace=True)\n",
        "print(\"Duplicate rows removed.\")"
      ],
      "metadata": {
        "colab": {
          "base_uri": "https://localhost:8080/"
        },
        "id": "SxcNV2eGTz8Y",
        "outputId": "664caa75-deb2-4627-8ba2-0929b122ad7a"
      },
      "execution_count": 12,
      "outputs": [
        {
          "output_type": "stream",
          "name": "stdout",
          "text": [
            "Duplicate rows removed.\n"
          ]
        }
      ]
    },
    {
      "cell_type": "markdown",
      "source": [
        "To appropriately display the data field, convert the dataframe field to a datetime format using the pandas object (not the dataframe)."
      ],
      "metadata": {
        "id": "hZ1UuQ3FUBxB"
      }
    },
    {
      "cell_type": "code",
      "source": [
        "df['Date'] = pd.to_datetime(df['Date'])\n",
        "print(\"Date column converted to datetime format.\")\n"
      ],
      "metadata": {
        "colab": {
          "base_uri": "https://localhost:8080/"
        },
        "id": "9tqDadVdT5li",
        "outputId": "8c080b68-59d2-4738-c4c8-542cb377711a"
      },
      "execution_count": 13,
      "outputs": [
        {
          "output_type": "stream",
          "name": "stdout",
          "text": [
            "Date column converted to datetime format.\n"
          ]
        }
      ]
    },
    {
      "cell_type": "code",
      "source": [
        "\n",
        "# Next, convert the dataframe 'Likes' data to an integer.\n",
        "df['Likes'] = df['Likes'].astype(int)\n",
        "print(\"Likes column converted to integer format.\")\n",
        "\n",
        "print(\"\\nDataFrame Info after cleaning:\")\n",
        "df.info()\n",
        "print(\"\\n\")"
      ],
      "metadata": {
        "colab": {
          "base_uri": "https://localhost:8080/"
        },
        "id": "9stpEaEAUIKr",
        "outputId": "383a7bef-cb98-48cd-f72a-c1ac66977ecd"
      },
      "execution_count": 14,
      "outputs": [
        {
          "output_type": "stream",
          "name": "stdout",
          "text": [
            "Likes column converted to integer format.\n",
            "\n",
            "DataFrame Info after cleaning:\n",
            "<class 'pandas.core.frame.DataFrame'>\n",
            "RangeIndex: 500 entries, 0 to 499\n",
            "Data columns (total 3 columns):\n",
            " #   Column    Non-Null Count  Dtype         \n",
            "---  ------    --------------  -----         \n",
            " 0   Date      500 non-null    datetime64[ns]\n",
            " 1   Category  500 non-null    object        \n",
            " 2   Likes     500 non-null    int64         \n",
            "dtypes: datetime64[ns](1), int64(1), object(1)\n",
            "memory usage: 11.8+ KB\n",
            "\n",
            "\n"
          ]
        }
      ]
    },
    {
      "cell_type": "markdown",
      "source": [
        "##**Task 5- Visualize and Analyze the data**\n",
        "An important aspect of data analysis is the ability to physically view it to visually observe relationships among the data using charts and graphs.\n",
        "The second way to analyze the data is to perform statistics on it, for example compute the average.First, visualize the data using the seaborn module in a histogram plot of the Likes.\n",
        "This is accomplished using the method histplot, passing in the dataframe field 'Likes' as in df['Likes']."
      ],
      "metadata": {
        "id": "E12n_ufuUMwP"
      }
    },
    {
      "cell_type": "code",
      "source": [
        "\n",
        "plt.figure(figsize=(10, 6))\n",
        "sns.histplot(df['Likes'], kde=True)\n",
        "plt.title('Distribution of Likes')\n",
        "plt.xlabel('Number of Likes')\n",
        "plt.ylabel('Frequency')\n",
        "# In order to have the histogram show up in the output, use the MathPlotLib.pyplot's show method.\n",
        "plt.show()"
      ],
      "metadata": {
        "colab": {
          "base_uri": "https://localhost:8080/",
          "height": 564
        },
        "id": "sBhoxAmgUJnZ",
        "outputId": "05c67faf-f5b8-4c44-cdf2-e6b7344d0bc4"
      },
      "execution_count": 15,
      "outputs": [
        {
          "output_type": "display_data",
          "data": {
            "text/plain": [
              "<Figure size 1000x600 with 1 Axes>"
            ],
            "image/png": "[encoded data removed]"
          },
          "metadata": {}
        }
      ]
    },
    {
      "cell_type": "markdown",
      "source": [
        " Next, create a boxplot with the x axis as 'Category', and the y axis as 'Likes'."
      ],
      "metadata": {
        "id": "YQfBdul8UhlZ"
      }
    },
    {
      "cell_type": "code",
      "source": [
        "plt.figure(figsize=(12, 7))\n",
        "sns.boxplot(x='Category', y='Likes', data=df)\n",
        "plt.title('Likes Distribution by Category')\n",
        "plt.xlabel('Category')\n",
        "plt.ylabel('Number of Likes')\n",
        "plt.xticks(rotation=45, ha='right') # Rotate labels for better readability\n",
        "plt.tight_layout() # Adjust layout to prevent labels from overlapping\n",
        "# Be sure to also call the pyplot's show method to see the boxplot output.\n",
        "plt.show()"
      ],
      "metadata": {
        "colab": {
          "base_uri": "https://localhost:8080/",
          "height": 707
        },
        "id": "FXwgc-pBUdY8",
        "outputId": "52f2ff74-dc27-48a7-869d-2927f153d329"
      },
      "execution_count": 16,
      "outputs": [
        {
          "output_type": "display_data",
          "data": {
            "text/plain": [
              "<Figure size 1200x700 with 1 Axes>"
            ],
            "image/png": "[encoded data removed]"
          },
          "metadata": {}
        }
      ]
    },
    {
      "cell_type": "markdown",
      "source": [
        "Now perform some statistics on the data.\n",
        "First, print out the mean of the 'Likes' category."
      ],
      "metadata": {
        "id": "qakKJkMUU0BX"
      }
    },
    {
      "cell_type": "code",
      "source": [
        "\n",
        "print(f\"Mean of 'Likes' across all posts: {df['Likes'].mean():.2f}\")\n",
        "print(\"\\n\")\n"
      ],
      "metadata": {
        "colab": {
          "base_uri": "https://localhost:8080/"
        },
        "id": "BPq05uqDUpwA",
        "outputId": "def7b785-eab8-48a2-84ec-73fbd64a47b3"
      },
      "execution_count": 17,
      "outputs": [
        {
          "output_type": "stream",
          "name": "stdout",
          "text": [
            "Mean of 'Likes' across all posts: 4973.81\n",
            "\n",
            "\n"
          ]
        }
      ]
    },
    {
      "cell_type": "code",
      "source": [
        "# Next,we  use the dataframe's groupby method to print out the mean of each Category 'Likes'.\n",
        "print(\"Mean of 'Likes' by Category:\")\n",
        "print(df.groupby('Category')['Likes'].mean().sort_values(ascending=False))\n",
        "print(\"\\n\")"
      ],
      "metadata": {
        "colab": {
          "base_uri": "https://localhost:8080/"
        },
        "id": "aASNJpfyU2yl",
        "outputId": "f1ae2ade-cd32-41d5-b29f-01405aa09813"
      },
      "execution_count": 18,
      "outputs": [
        {
          "output_type": "stream",
          "name": "stdout",
          "text": [
            "Mean of 'Likes' by Category:\n",
            "Category\n",
            "Health     5474.661538\n",
            "Family     5180.089286\n",
            "Food       5110.400000\n",
            "Music      5097.953846\n",
            "Culture    4971.559322\n",
            "Fashion    4871.171875\n",
            "Travel     4546.363636\n",
            "Fitness    4496.106061\n",
            "Name: Likes, dtype: float64\n",
            "\n",
            "\n"
          ]
        }
      ]
    },
    {
      "cell_type": "markdown",
      "source": [
        "##**Conclusion:**\n",
        "\n",
        "This project involved a comprehensive analysis of simulated social media post data, from initial data generation to visualization and statistical analysis. The goal was to gain insights into post performance based on categories, mimicking a real-world scenario for a social media marketing company.\n",
        "\n",
        "**Process Overview and Challenges:**\n",
        "The first step involved importing essential Python libraries: pandas for data manipulation, numpy for numerical operations, matplotlib.pyplot for basic plotting, seaborn for advanced visualizations, and random for data generation. This foundational step ensured all necessary tools were available.\n",
        "\n",
        "Generating the random dataset was a critical phase. We defined a list of social media categories and then created a dictionary with 'Date', 'Category', and 'Likes' fields. Using `pd.date_range` for dates, `random.choice` for categories, and `np.random.randint` for likes allowed us to create a pseudo-random dataset of a specified size (e.g., 500 entries). A minor challenge here was ensuring the 'n' parameter was consistently applied across all data generation methods to maintain data alignment.\n",
        "\n",
        "Once the data was generated, it was loaded into a pandas DataFrame. Initial exploration involved printing the DataFrame's head, information, and descriptive statistics, along with value counts for the 'Category' column. This provided an immediate understanding of the data's structure, types, and basic distribution.\n",
        "\n",
        "Data cleaning was a crucial step to ensure the integrity of our analysis. We used `df.dropna()` to remove any null values and `df.drop_duplicates()` to eliminate redundant entries. Furthermore, we converted the 'Date' column to a proper datetime format using `pd.to_datetime()` and ensured the 'Likes' column was an integer using `astype(int)`. These conversions are vital for accurate plotting and statistical computations.\n",
        "\n",
        "**Key Findings and Visualizations:**\n",
        "The visualization phase utilized seaborn and matplotlib to create informative plots. The histogram of 'Likes' provided a clear visual representation of the distribution of engagement across all posts, indicating the frequency of different like counts. This helped identify common engagement patterns.\n",
        "\n",
        "The boxplot, showing 'Likes' by 'Category', was particularly insightful. It allowed for a direct visual comparison of the distribution and spread of 'Likes' for each content category. For instance, one could observe which categories tended to have higher median likes or a wider range of engagement.\n",
        "\n",
        "Statistical analysis further supported our visual findings. Printing the overall mean of 'Likes' gave a general measure of engagement. More importantly, grouping the data by 'Category' and computing the mean 'Likes' for each category provided quantitative evidence of which content types performed better on average. This data-driven insight is directly actionable for clients aiming to optimize their social media strategy.\n",
        "\n",
        "**Improvements and Future Endeavors:**\n",
        "To enhance this project for future business applications and to set it apart for a portfolio:\n",
        "\n",
        "1.  **Integration with Real APIs**: Instead of generating random data, connect to actual social media APIs (e.g., Twitter, Facebook Graph API) to gather real-time or historical data. This would make the analysis genuinely actionable and relevant.\n",
        "2.  **Advanced Text Analysis**: If actual tweet content were available, implement Natural Language Processing (NLP) techniques for sentiment analysis, keyword extraction, and topic modeling. This could reveal deeper insights into audience perception and content effectiveness.\n",
        "3.  **Time-Series Analysis**: For real data, perform time-series analysis to identify trends, seasonality, and optimal posting times. This could involve forecasting future engagement.\n",
        "4.  **Interactive Dashboards**: Develop an interactive dashboard using libraries like Plotly or Dash. This would allow clients to dynamically explore the data, apply filters, and gain personalized insights without needing to run code.\n",
        "5.  **Predictive Modeling**: Implement machine learning models (e.g., regression) to predict the number of likes a post might receive based on its category, time of day, and other features. This would enable proactive content strategy.\n",
        "\n",
        "This project successfully demonstrates the fundamental steps in data collection, cleaning, analysis, and visualization, providing a strong foundation for more complex social media analytics initiatives.\n"
      ],
      "metadata": {
        "id": "eD4SsK3xU_li"
      }
    },
    {
      "cell_type": "code",
      "source": [],
      "metadata": {
        "id": "DrPDxGUZU5fr"
      },
      "execution_count": null,
      "outputs": []
    }
  ]
}